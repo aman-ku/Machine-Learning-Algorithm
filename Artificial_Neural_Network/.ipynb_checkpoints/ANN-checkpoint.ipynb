{
 "cells": [
  {
   "cell_type": "code",
   "execution_count": 39,
   "metadata": {},
   "outputs": [],
   "source": [
    "import numpy as np\n",
    "import pandas as pd\n",
    "import matplotlib.pyplot as plt\n",
    "import seaborn as sb"
   ]
  },
  {
   "cell_type": "code",
   "execution_count": 51,
   "metadata": {},
   "outputs": [
    {
     "name": "stdout",
     "output_type": "stream",
     "text": [
      "(100, 2) (100,)\n"
     ]
    }
   ],
   "source": [
    "from sklearn import datasets\n",
    "X,y=datasets.make_moons(100,noise=0.10)\n",
    "print(np.shape(X),np.shape(y))"
   ]
  },
  {
   "cell_type": "code",
   "execution_count": 52,
   "metadata": {},
   "outputs": [
    {
     "data": {
      "text/plain": [
       "(100, 1)"
      ]
     },
     "execution_count": 52,
     "metadata": {},
     "output_type": "execute_result"
    }
   ],
   "source": [
    "y=y.reshape(-1,1)\n",
    "np.shape(y)"
   ]
  },
  {
   "cell_type": "code",
   "execution_count": 53,
   "metadata": {},
   "outputs": [],
   "source": [
    "from sklearn.model_selection import train_test_split\n",
    "features,X_test,labels,y_test=train_test_split(X,y,test_size=0.2,random_state=0)"
   ]
  },
  {
   "cell_type": "code",
   "execution_count": 54,
   "metadata": {},
   "outputs": [
    {
     "name": "stdout",
     "output_type": "stream",
     "text": [
      "(2, 4) (4, 1)\n"
     ]
    }
   ],
   "source": [
    "np.random.seed(0);\n",
    "wh=np.random.rand(len(features[0]),4);\n",
    "wo=np.random.rand(4,1);\n",
    "print(np.shape(wh),np.shape(wo));"
   ]
  },
  {
   "cell_type": "code",
   "execution_count": 55,
   "metadata": {},
   "outputs": [],
   "source": [
    "def sigmoid(y):\n",
    "    return 1/(1+np.exp(-y))"
   ]
  },
  {
   "cell_type": "code",
   "execution_count": 56,
   "metadata": {},
   "outputs": [],
   "source": [
    "def der_sig(y):\n",
    "    return sigmoid(y)*(1-sigmoid(y))"
   ]
  },
  {
   "cell_type": "code",
   "execution_count": 57,
   "metadata": {},
   "outputs": [],
   "source": [
    "l=0.001\n",
    "epochs=10000\n",
    "for i in range(epochs):\n",
    "    \n",
    "    #feed forward\n",
    "    yh=features.dot(wh) #linear eq. for hidden layer\n",
    "    sh=sigmoid(yh)      #applying non-linear function for hidden layer \n",
    "    \n",
    "    yo=sh.dot(wo) #linear eq. for output layer\n",
    "    so=sigmoid(yo) #applying non-linear function for output layer\n",
    "    \n",
    "    #Back propagation\n",
    "    #outer layer\n",
    "    loss=so-labels\n",
    "    der_1=der_sig(yo)\n",
    "    xo=sh\n",
    "    \n",
    "    go=xo.T.dot(loss*der_1)\n",
    "    \n",
    "    #inner layer\n",
    "    dup_wo=wo\n",
    "    elem_1=np.dot(loss*der_1,dup_wo.T)\n",
    "    der_2=der_sig(yh)\n",
    "    xh=features.T\n",
    "    gh=xh.dot(elem_1*der_2)\n",
    "    \n",
    "    #updating weight\n",
    "    wh=wh-l*gh\n",
    "    wo=wo-l*go\n",
    "    \n",
    "    "
   ]
  },
  {
   "cell_type": "code",
   "execution_count": 67,
   "metadata": {},
   "outputs": [],
   "source": [
    "y1=X_test.dot(wh)\n",
    "s1=sigmoid(y1)\n",
    "\n",
    "y2=s1.dot(wo)\n",
    "s2=sigmoid(y2)\n",
    "\n",
    "for j in range(len(y_test)):\n",
    "    if s2[j]>0.5:\n",
    "        s2[j]=1\n",
    "    else:\n",
    "        s2[j]=0"
   ]
  },
  {
   "cell_type": "code",
   "execution_count": 69,
   "metadata": {},
   "outputs": [
    {
     "name": "stdout",
     "output_type": "stream",
     "text": [
      "Accuracy =  0.85\n"
     ]
    }
   ],
   "source": [
    "accuracy=0\n",
    "for k in range(len(y_test)):\n",
    "    if y_test[k]==s2[k]:\n",
    "        accuracy+=1\n",
    "print(\"Accuracy = \",accuracy/len(y_test))\n",
    "        "
   ]
  },
  {
   "cell_type": "code",
   "execution_count": 75,
   "metadata": {},
   "outputs": [
    {
     "data": {
      "text/plain": [
       "<matplotlib.collections.PathCollection at 0x7fb216647e50>"
      ]
     },
     "execution_count": 75,
     "metadata": {},
     "output_type": "execute_result"
    },
    {
     "data": {
      "image/png": "[encoded data removed]",
      "text/plain": [
       "<Figure size 432x288 with 1 Axes>"
      ]
     },
     "metadata": {
      "needs_background": "light"
     },
     "output_type": "display_data"
    }
   ],
   "source": [
    "#plotting\n",
    "y=y.reshape(-1)\n",
    "plt.scatter(X[:,0],X[:,1],c=y)"
   ]
  }
 ],
 "metadata": {
  "kernelspec": {
   "display_name": "Python 3",
   "language": "python",
   "name": "python3"
  },
  "language_info": {
   "codemirror_mode": {
    "name": "ipython",
    "version": 3
   },
   "file_extension": ".py",
   "mimetype": "text/x-python",
   "name": "python",
   "nbconvert_exporter": "python",
   "pygments_lexer": "ipython3",
   "version": "3.7.4"
  }
 },
 "nbformat": 4,
 "nbformat_minor": 2
}
