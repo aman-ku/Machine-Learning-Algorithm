{
 "cells": [
  {
   "cell_type": "code",
   "execution_count": 1,
   "metadata": {},
   "outputs": [],
   "source": [
    "import numpy as np\n",
    "import pandas as pd\n",
    "import matplotlib.pyplot as plt\n",
    "import seaborn as sb"
   ]
  },
  {
   "cell_type": "code",
   "execution_count": 20,
   "metadata": {},
   "outputs": [
    {
     "name": "stdout",
     "output_type": "stream",
     "text": [
      "(100, 2) (100,)\n"
     ]
    }
   ],
   "source": [
    "from sklearn import datasets\n",
    "features,labels=datasets.make_moons(100,noise=0.10)\n",
    "print(np.shape(features),np.shape(labels))"
   ]
  },
  {
   "cell_type": "code",
   "execution_count": 24,
   "metadata": {},
   "outputs": [
    {
     "data": {
      "text/plain": [
       "(100, 1)"
      ]
     },
     "execution_count": 24,
     "metadata": {},
     "output_type": "execute_result"
    }
   ],
   "source": [
    "labels=labels.reshape(-1,1)\n",
    "np.shape(labels)"
   ]
  },
  {
   "cell_type": "code",
   "execution_count": 22,
   "metadata": {},
   "outputs": [
    {
     "name": "stdout",
     "output_type": "stream",
     "text": [
      "(2, 4) (4, 1)\n"
     ]
    }
   ],
   "source": [
    "np.random.seed(0);\n",
    "wh=np.random.rand(len(features[0]),4);\n",
    "wo=np.random.rand(4,1);\n",
    "print(np.shape(wh),np.shape(wo));"
   ]
  },
  {
   "cell_type": "code",
   "execution_count": 25,
   "metadata": {},
   "outputs": [],
   "source": [
    "def sigmoid(y):\n",
    "    return 1/(1+np.exp(-y))"
   ]
  },
  {
   "cell_type": "code",
   "execution_count": 26,
   "metadata": {},
   "outputs": [],
   "source": [
    "def der_sig(y):\n",
    "    return sigmoid(-y)*(1-sigmoid(y))"
   ]
  },
  {
   "cell_type": "code",
   "execution_count": null,
   "metadata": {},
   "outputs": [],
   "source": [
    "l=0.001\n",
    "epochs=10000\n",
    "for i in range(epochs):\n",
    "    \n",
    "    #feed forward\n",
    "    yh=features.dot(wh) #linear eq. for hidden layer\n",
    "    sh=sigmoid(yh)      #applying non-linear function for hidden layer \n",
    "    \n",
    "    yo=sh.dot(wo) #linear eq. for output layer\n",
    "    so=sigmoid(yo) #applying non-linear function for output layer\n",
    "    \n",
    "    #Back propagation\n",
    "    loss=\n",
    "    "
   ]
  }
 ],
 "metadata": {
  "kernelspec": {
   "display_name": "Python 3",
   "language": "python",
   "name": "python3"
  },
  "language_info": {
   "codemirror_mode": {
    "name": "ipython",
    "version": 3
   },
   "file_extension": ".py",
   "mimetype": "text/x-python",
   "name": "python",
   "nbconvert_exporter": "python",
   "pygments_lexer": "ipython3",
   "version": "3.7.4"
  }
 },
 "nbformat": 4,
 "nbformat_minor": 2
}
